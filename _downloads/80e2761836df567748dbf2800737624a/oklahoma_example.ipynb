{
  "cells": [
    {
      "cell_type": "code",
      "execution_count": null,
      "metadata": {
        "collapsed": false
      },
      "outputs": [],
      "source": [
        "%matplotlib inline"
      ]
    },
    {
      "cell_type": "markdown",
      "metadata": {},
      "source": [
        "\n# Example of a wind retrieval from KVNX and 2 XSAPRs in Oklahoma\n\nThis shows an example of how to combine data from 3 radars and HRRR in\nthe vicinity of the SGP site in North Central Oklahoma.\n\nGrided netCDF files are downloadable from:\nhttps://drive.google.com/drive/u/1/folders/1pcQxWRJV78xuJePTZnlXPPpMe1qut0ie\n\n<img src=\"file://../../arm_figure.png\">\n"
      ]
    },
    {
      "cell_type": "code",
      "execution_count": null,
      "metadata": {
        "collapsed": false
      },
      "outputs": [],
      "source": [
        "import pyart\nimport pydda\nimport matplotlib.pyplot as plt\nimport numpy as np\nimport urllib\n\nhrrr_url = ('https://pando-rgw01.chpc.utah.edu/hrrr/prs/20181004/' +\n            'hrrr.t10z.wrfprsf00.grib2')\ngrid0 = pyart.io.read_grid(u'grid0.20171004.095021.nc')\ngrid1 = pyart.io.read_grid(u'grid1.20171004.095021.nc')\ngrid2 = pyart.io.read_grid(u'grid2.20171004.095021.nc')\n\nurllib.request.urlretrieve(hrrr_url, 'test.grib2')\ngrid_mhx = pydda.constraints.add_hrrr_constraint_to_grid(grid0,\n                                                         'test.grib2')\n\n# Set initialization and do retrieval\nu_init, v_init, w_init = pydda.initialization.make_constant_wind_field(grid1)\nnew_grids = pydda.retrieval.get_dd_wind_field([grid0, grid1, grid2],\n                                              u_init, v_init, w_init, Co=0.1, Cm=100.0,\n                                              model_fields=[\"hrrr\"],\n                                              mask_outside_opt=True)\n# Make a neat plot\nfig = plt.figure(figsize=(10,10))\nax = pydda.vis.plot_horiz_xsection_quiver(new_grids, background_field='reflectivity', level=3,\n                                          show_lobes=False, bg_grid_no=0, vmin=0, vmax=60,\n                                          quiverkey_len=10.0,\n                                          quiver_spacing_x_km=2.0, quiver_spacing_y_km=2.0,\n                                          quiverkey_loc='top', colorbar_contour_flag=True,\n                                          cmap='pyart_HomeyerRainbow')\nax.set_xlim([-20, 40])\nax.set_ylim([-20, 40])\nplt.show(ax)"
      ]
    }
  ],
  "metadata": {
    "kernelspec": {
      "display_name": "Python 3",
      "language": "python",
      "name": "python3"
    },
    "language_info": {
      "codemirror_mode": {
        "name": "ipython",
        "version": 3
      },
      "file_extension": ".py",
      "mimetype": "text/x-python",
      "name": "python",
      "nbconvert_exporter": "python",
      "pygments_lexer": "ipython3",
      "version": "3.10.8"
    }
  },
  "nbformat": 4,
  "nbformat_minor": 0
}