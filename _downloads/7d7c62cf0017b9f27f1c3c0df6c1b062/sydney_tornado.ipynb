{
  "cells": [
    {
      "cell_type": "code",
      "execution_count": null,
      "metadata": {
        "collapsed": false
      },
      "outputs": [],
      "source": [
        "%matplotlib inline"
      ]
    },
    {
      "cell_type": "markdown",
      "metadata": {},
      "source": [
        "\n# Example of a wind retrieval in a tornado over Sydney\n\nThis shows an example of how to retrieve winds from 4 radars over Sydney.\n\nGrided netCDF files are downloadable from:\nhttps://drive.google.com/drive/u/1/folders/1pcQxWRJV78xuJePTZnlXPPpMe1qut0ie\n\n<img src=\"file://../../sydney_tornado.png\">\n"
      ]
    },
    {
      "cell_type": "code",
      "execution_count": null,
      "metadata": {
        "collapsed": false
      },
      "outputs": [],
      "source": [
        "import pyart\nimport pydda\nimport matplotlib.pyplot as plt\nimport numpy as np\nimport pooch\n\ngrid1_path = pooch.retrieve(\n    url=\"https://github.com/rcjackson/pydda-sample-data/raw/main/pydda-sample-data/grid1_sydney.nc\",\n    known_hash=None)\ngrid2_path = pooch.retrieve(\n    url=\"https://github.com/rcjackson/pydda-sample-data/raw/main/pydda-sample-data/grid2_sydney.nc\",\n    known_hash=None)\ngrid3_path = pooch.retrieve(\n    url=\"https://github.com/rcjackson/pydda-sample-data/raw/main/pydda-sample-data/grid3_sydney.nc\",\n    known_hash=None)\ngrid4_path = pooch.retrieve(\n    url=\"https://github.com/rcjackson/pydda-sample-data/raw/main/pydda-sample-data/grid4_sydney.nc\",\n    known_hash=None)\ngrid1 = pyart.io.read_grid(grid1_path)\ngrid2 = pyart.io.read_grid(grid2_path)\ngrid3 = pyart.io.read_grid(grid3_path)\ngrid4 = pyart.io.read_grid(grid4_path)\n\n# Set initialization and do retrieval\nu_init, v_init, w_init = pydda.initialization.make_constant_wind_field(grid1, vel_field='VRADH_corr')\nnew_grids = pydda.retrieval.get_dd_wind_field([grid1, grid2, grid3, grid4],\n                                              u_init, v_init, w_init, Co=1e-2, Cm=256.0, Cx=1e3, Cy=1e3, Cz=1e3,\n                                              vel_name='VRADH_corr', refl_field='DBZH', \n                                              mask_outside_opt=True, wind_tol=0.1,\n                                              engine='tensorflow')\n# Make a neat plot\nfig = plt.figure(figsize=(10,7))\nax = pydda.vis.plot_horiz_xsection_quiver_map(new_grids, background_field='DBZH', level=3,\n                                              show_lobes=False, bg_grid_no=3, vmin=0, vmax=60,\n                                              quiverkey_len=20.0, w_vel_contours=[5., 10., 20, 30., 40.],\n                                              quiver_spacing_x_km=2.0, quiver_spacing_y_km=2.0,\n                                              quiverkey_loc='top', colorbar_contour_flag=True,\n                                              cmap='pyart_HomeyerRainbow')\nax.set_xticks(np.arange(150.5, 153, 0.1))\nax.set_yticks(np.arange(-36, -32.0, 0.1))\nax.set_xlim([151.0, 151.35])\nax.set_ylim([-34.15, -33.9])\nplt.show()"
      ]
    }
  ],
  "metadata": {
    "kernelspec": {
      "display_name": "Python 3",
      "language": "python",
      "name": "python3"
    },
    "language_info": {
      "codemirror_mode": {
        "name": "ipython",
        "version": 3
      },
      "file_extension": ".py",
      "mimetype": "text/x-python",
      "name": "python",
      "nbconvert_exporter": "python",
      "pygments_lexer": "ipython3",
      "version": "3.10.10"
    }
  },
  "nbformat": 4,
  "nbformat_minor": 0
}