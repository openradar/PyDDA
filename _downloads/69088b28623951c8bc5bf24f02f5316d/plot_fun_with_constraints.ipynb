{
  "cells": [
    {
      "cell_type": "code",
      "execution_count": null,
      "metadata": {
        "collapsed": false
      },
      "outputs": [],
      "source": [
        "%matplotlib inline"
      ]
    },
    {
      "cell_type": "markdown",
      "metadata": {},
      "source": [
        "\n# Example on geographic plotting and constraint variation\n\nIn this example we show how to plot wind fields on a map and change\nthe default constraint coefficients using PyDDA.\n\nThis shows how important it is to have the proper intitial state and\nconstraints when you derive your wind fields. In the first figure,\nthe sounding was used as the initial state, but for the latter\ntwo examples we use a zero initial state which provides for more \nquestionable winds at the edges of the Dual Doppler Lobes. \n\nThis shows that your initial state and background are key to \nproviding a physically realistic retrieval. Assuming a zero\nbackground will likely result in false regions of convergence\nand divergence that will generate artificial updrafts and downdrafts\nat the edges of data coverage.\n"
      ]
    },
    {
      "cell_type": "code",
      "execution_count": null,
      "metadata": {
        "collapsed": false
      },
      "outputs": [],
      "source": [
        "import pydda\nimport pyart\nimport cartopy.crs as ccrs\nimport matplotlib.pyplot as plt\n\n\nberr_grid = pyart.io.read_grid(pydda.tests.EXAMPLE_RADAR0)\ncpol_grid = pyart.io.read_grid(pydda.tests.EXAMPLE_RADAR1)\n\n# Load our radar data\nsounding = pyart.io.read_arm_sonde(\n    pydda.tests.SOUNDING_PATH)\nu_init, v_init, w_init = pydda.initialization.make_constant_wind_field(\n    berr_grid, (0.0, 0.0, 0.0))\n\n# Let's make a plot on a map\nfig = plt.figure(figsize=(7, 3))\n\npydda.vis.plot_xz_xsection_streamlines(\n    [cpol_grid, berr_grid], bg_grid_no=-1, level=50, w_vel_contours=[1, 3, 5, 8])\nplt.show()\n\n# Let's provide an initial state from the sounding\nu_back = sounding[1].u_wind\nv_back = sounding[1].v_wind\nz_back = sounding[1].height\nu_init, v_init, w_init = pydda.initialization.make_wind_field_from_profile(cpol_grid, sounding[1])\n\nnew_grids = pydda.retrieval.get_dd_wind_field([cpol_grid, berr_grid],\n                                    u_init, v_init, w_init,\n                                    u_back=u_back, v_back=v_back, z_back=z_back,\n                                    Co=10.0, Cm=4096.0, frz=5000.0, Cb=1e-6,\n                                    mask_outside_opt=False, wind_tol=0.2,\n                                    engine=\"tensorflow\")\nfig = plt.figure(figsize=(7, 7))\n\npydda.vis.plot_xz_xsection_streamlines(\n    new_grids,  bg_grid_no=-1, level=50, w_vel_contours=[1, 3, 5, 8])\nplt.show()\n# Let's see what happens when we use a zero initialization\nu_init, v_init, w_init = pydda.initialization.make_constant_wind_field(\n    berr_grid, (0.0, 0.0, 0.0))    \nnew_grids = pydda.retrieval.get_dd_wind_field([cpol_grid, berr_grid],\n                                    u_init, v_init, w_init,\n                                    u_back=u_back, v_back=v_back, z_back=z_back,\n                                    Co=1.0, Cm=128.0, frz=5000.0, Cb=1e-6,\n                                    mask_outside_opt=False, wind_tol=0.2,\n                                    engine=\"tensorflow\")\n\nfig = plt.figure(figsize=(7, 7))\n\npydda.vis.plot_xz_xsection_streamlines(\n    new_grids, bg_grid_no=-1, level=50, w_vel_contours=[1, 3, 5, 8])\nplt.show()\n\n# Or, let's make the radar data more important!\nnew_grids = pydda.retrieval.get_dd_wind_field([cpol_grid, berr_grid],\n                                    u_init, v_init, w_init,\n                                    Co=100.0, Cm=128.0, frz=5000.0,\n                                    mask_outside_opt=False, wind_tol=0.2,\n                                    engine=\"tensorflow\")\nfig = plt.figure(figsize=(7, 7))\n\npydda.vis.plot_xz_xsection_streamlines(\n    new_grids, bg_grid_no=-1, level=50, w_vel_contours=[1, 3, 5, 8])\nplt.show()"
      ]
    }
  ],
  "metadata": {
    "kernelspec": {
      "display_name": "Python 3",
      "language": "python",
      "name": "python3"
    },
    "language_info": {
      "codemirror_mode": {
        "name": "ipython",
        "version": 3
      },
      "file_extension": ".py",
      "mimetype": "text/x-python",
      "name": "python",
      "nbconvert_exporter": "python",
      "pygments_lexer": "ipython3",
      "version": "3.10.9"
    }
  },
  "nbformat": 4,
  "nbformat_minor": 0
}