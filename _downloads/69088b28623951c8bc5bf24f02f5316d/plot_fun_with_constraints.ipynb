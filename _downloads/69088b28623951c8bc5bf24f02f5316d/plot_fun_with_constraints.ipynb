{
  "cells": [
    {
      "cell_type": "markdown",
      "metadata": {},
      "source": [
        "\n# Example on geographic plotting and constraint variation\n\nIn this example we show how to plot wind fields on a map and change\nthe default constraint coefficients using PyDDA.\n\nThis shows how important it is to have the proper intitial state and\nconstraints when you derive your wind fields. In the first figure,\nthe sounding was used as the initial state, but for the latter\ntwo examples we use a zero initial state which provides for more\nquestionable winds at the edges of the Dual Doppler Lobes.\n\nThis shows that your initial state and background are key to\nproviding a physically realistic retrieval. Assuming a zero\nbackground will likely result in false regions of convergence\nand divergence that will generate artificial updrafts and downdrafts\nat the edges of data coverage.\n"
      ]
    },
    {
      "cell_type": "code",
      "execution_count": null,
      "metadata": {
        "collapsed": false
      },
      "outputs": [],
      "source": [
        "import pydda\nimport pyart\nimport cartopy.crs as ccrs\nimport matplotlib.pyplot as plt\n\n\nberr_grid = pyart.io.read_grid(pydda.tests.EXAMPLE_RADAR0)\ncpol_grid = pyart.io.read_grid(pydda.tests.EXAMPLE_RADAR1)\n\n# Load our radar data\nsounding = pyart.io.read_arm_sonde(pydda.tests.SOUNDING_PATH)\nberr_grid = pydda.initialization.make_constant_wind_field(berr_grid, (0.0, 0.0, 0.0))\n\n# Let's provide an initial state from the sounding\nu_back = sounding[1].u_wind\nv_back = sounding[1].v_wind\nz_back = sounding[1].height\ncpol_grid = pydda.initialization.make_wind_field_from_profile(cpol_grid, sounding[1])\n\nnew_grids, _ = pydda.retrieval.get_dd_wind_field(\n    [cpol_grid, berr_grid],\n    u_back=u_back,\n    v_back=v_back,\n    z_back=z_back,\n    Co=1.0,\n    Cm=64.0,\n    frz=5000.0,\n    Cb=1e-5,\n    Cx=1e2,\n    Cy=1e2,\n    Cz=1e2,\n    mask_outside_opt=False,\n    wind_tol=0.1,\n    engine=\"tensorflow\",\n)\nfig = plt.figure(figsize=(7, 7))\n\npydda.vis.plot_xz_xsection_streamlines(\n    new_grids, bg_grid_no=-1, level=50, w_vel_contours=[1, 3, 5, 8]\n)\nplt.show()\n\n# Let's see what happens when we use a zero initialization\n# This causes there to be convergence in the cone of silence\n# This is an artifact that we want to avoid!\n# Prescribing winds inside the background through either a constraint\n# Or through the initial state will help mitigate this issue.\ncpol_grid = pydda.initialization.make_constant_wind_field(cpol_grid, (0.0, 0.0, 0.0))\nnew_grids, _ = pydda.retrieval.get_dd_wind_field(\n    [cpol_grid, berr_grid],\n    u_back=u_back,\n    v_back=v_back,\n    z_back=z_back,\n    Co=1.0,\n    Cm=64.0,\n    frz=5000.0,\n    Cb=1e-5,\n    Cx=1e2,\n    Cy=1e2,\n    Cz=1e2,\n    mask_outside_opt=False,\n    wind_tol=0.5,\n    engine=\"scipy\",\n)\n\nfig = plt.figure(figsize=(7, 7))\n\npydda.vis.plot_xz_xsection_streamlines(\n    new_grids, bg_grid_no=-1, level=50, w_vel_contours=[1, 3, 5, 8]\n)\nplt.show()\n\n# Or, let's make the radar data more important!\ncpol_grid = pydda.initialization.make_wind_field_from_profile(cpol_grid, sounding[1])\nnew_grids, _ = pydda.retrieval.get_dd_wind_field(\n    [cpol_grid, berr_grid],\n    Co=10.0,\n    Cm=64.0,\n    frz=5000.0,\n    u_back=u_back,\n    v_back=v_back,\n    z_back=z_back,\n    Cb=1e-5,\n    Cx=1e2,\n    Cy=1e2,\n    Cz=1e2,\n    mask_outside_opt=False,\n    wind_tol=0.1,\n    engine=\"scipy\",\n)\nfig = plt.figure(figsize=(7, 7))\n\npydda.vis.plot_xz_xsection_streamlines(\n    new_grids, bg_grid_no=-1, level=50, w_vel_contours=[1, 3, 5, 8]\n)\nplt.show()"
      ]
    }
  ],
  "metadata": {
    "kernelspec": {
      "display_name": "Python 3",
      "language": "python",
      "name": "python3"
    },
    "language_info": {
      "codemirror_mode": {
        "name": "ipython",
        "version": 3
      },
      "file_extension": ".py",
      "mimetype": "text/x-python",
      "name": "python",
      "nbconvert_exporter": "python",
      "pygments_lexer": "ipython3",
      "version": "3.10.12"
    }
  },
  "nbformat": 4,
  "nbformat_minor": 0
}