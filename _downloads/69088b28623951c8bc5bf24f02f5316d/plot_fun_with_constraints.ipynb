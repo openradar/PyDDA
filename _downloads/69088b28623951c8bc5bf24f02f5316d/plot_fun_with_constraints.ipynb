{
  "cells": [
    {
      "cell_type": "code",
      "execution_count": null,
      "metadata": {
        "collapsed": false
      },
      "outputs": [],
      "source": [
        "%matplotlib inline"
      ]
    },
    {
      "cell_type": "markdown",
      "metadata": {},
      "source": [
        "\n# Example on geographic plotting and constraint variation\n\nIn this example we show how to plot wind fields on a map and change\nthe default constraint coefficients using PyDDA.\n\nThis shows how important it is to have the proper intitial state and\nconstraints when you derive your wind fields. In the first figure,\nthe sounding was used as the initial state, but for the latter\ntwo examples we use a zero initial state which provides for more \nquestionable winds at the edges of the Dual Doppler Lobes.\n"
      ]
    },
    {
      "cell_type": "code",
      "execution_count": null,
      "metadata": {
        "collapsed": false
      },
      "outputs": [],
      "source": [
        "import pydda\nimport pyart\nimport cartopy.crs as ccrs\nimport matplotlib.pyplot as plt\n\n\nberr_grid = pyart.io.read_grid(pydda.tests.EXAMPLE_RADAR0)\ncpol_grid = pyart.io.read_grid(pydda.tests.EXAMPLE_RADAR1)\n\n# Load our radar data\nsounding = pyart.io.read_arm_sonde(\n    pydda.tests.SOUNDING_PATH)\nu_init, v_init, w_init = pydda.initialization.make_constant_wind_field(\n    berr_grid, (0.0, 0.0, 0.0))\n\n# Let's make a plot on a map\nfig = plt.figure(figsize=(7, 7))\nax = plt.axes(projection=ccrs.PlateCarree())\n\npydda.vis.plot_horiz_xsection_streamlines_map(\n    [cpol_grid, berr_grid], ax=ax, bg_grid_no=-1, level=7, w_vel_contours=[3, 5, 8])\nplt.show()\n\n# Let's see what happens when we use a zero initialization\nnew_grids = pydda.retrieval.get_dd_wind_field([cpol_grid, berr_grid],\n                                    u_init, v_init, w_init,\n                                    Co=1.0, Cm=128.0, frz=5000.0,\n                                    mask_outside_opt=False,\n                                    engine=\"tensorflow\")\n\nfig = plt.figure(figsize=(7, 7))\nax = plt.axes(projection=ccrs.PlateCarree())\n\npydda.vis.plot_horiz_xsection_streamlines_map(\n    new_grids, ax=ax, bg_grid_no=-1, level=7, w_vel_contours=[3, 5, 8])\nplt.show()\n\n# Or, let's make the radar data more important!\nnew_grids = pydda.retrieval.get_dd_wind_field([cpol_grid, berr_grid],\n                                    u_init, v_init, w_init,\n                                    Co=10.0, Cm=128.0, frz=5000.0,\n                                    mask_outside_opt=False,\n                                    engine=\"tensorflow\")\nfig = plt.figure(figsize=(7, 7))\nax = plt.axes(projection=ccrs.PlateCarree())\n\npydda.vis.plot_horiz_xsection_streamlines_map(\n    new_grids, ax=ax, bg_grid_no=-1, level=7, w_vel_contours=[3, 5, 8])\nplt.show()"
      ]
    }
  ],
  "metadata": {
    "kernelspec": {
      "display_name": "Python 3",
      "language": "python",
      "name": "python3"
    },
    "language_info": {
      "codemirror_mode": {
        "name": "ipython",
        "version": 3
      },
      "file_extension": ".py",
      "mimetype": "text/x-python",
      "name": "python",
      "nbconvert_exporter": "python",
      "pygments_lexer": "ipython3",
      "version": "3.10.8"
    }
  },
  "nbformat": 4,
  "nbformat_minor": 0
}